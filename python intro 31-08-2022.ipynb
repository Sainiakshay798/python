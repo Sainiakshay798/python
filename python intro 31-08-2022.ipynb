{
 "cells": [
  {
   "cell_type": "code",
   "execution_count": 2,
   "id": "3f2e5a96",
   "metadata": {},
   "outputs": [],
   "source": [
    "# arthmetic operators"
   ]
  },
  {
   "cell_type": "code",
   "execution_count": 3,
   "id": "477ac6cd",
   "metadata": {},
   "outputs": [],
   "source": [
    "# +,-,*,/"
   ]
  },
  {
   "cell_type": "code",
   "execution_count": 4,
   "id": "6bb5cd7a",
   "metadata": {},
   "outputs": [],
   "source": [
    "a=10\n",
    "b=20"
   ]
  },
  {
   "cell_type": "code",
   "execution_count": 5,
   "id": "7092c01d",
   "metadata": {},
   "outputs": [
    {
     "data": {
      "text/plain": [
       "(10, 20)"
      ]
     },
     "execution_count": 5,
     "metadata": {},
     "output_type": "execute_result"
    }
   ],
   "source": [
    "a,b"
   ]
  },
  {
   "cell_type": "code",
   "execution_count": 6,
   "id": "2520b535",
   "metadata": {},
   "outputs": [
    {
     "data": {
      "text/plain": [
       "30"
      ]
     },
     "execution_count": 6,
     "metadata": {},
     "output_type": "execute_result"
    }
   ],
   "source": [
    "a+b"
   ]
  },
  {
   "cell_type": "code",
   "execution_count": 7,
   "id": "09d54b43",
   "metadata": {},
   "outputs": [
    {
     "data": {
      "text/plain": [
       "-10"
      ]
     },
     "execution_count": 7,
     "metadata": {},
     "output_type": "execute_result"
    }
   ],
   "source": [
    "a-b"
   ]
  },
  {
   "cell_type": "code",
   "execution_count": 8,
   "id": "03d3cf83",
   "metadata": {},
   "outputs": [
    {
     "data": {
      "text/plain": [
       "200"
      ]
     },
     "execution_count": 8,
     "metadata": {},
     "output_type": "execute_result"
    }
   ],
   "source": [
    "a*b"
   ]
  },
  {
   "cell_type": "code",
   "execution_count": 9,
   "id": "1a7398d0",
   "metadata": {},
   "outputs": [
    {
     "data": {
      "text/plain": [
       "0.5"
      ]
     },
     "execution_count": 9,
     "metadata": {},
     "output_type": "execute_result"
    }
   ],
   "source": [
    "a/b"
   ]
  },
  {
   "cell_type": "code",
   "execution_count": 10,
   "id": "d64be7b8",
   "metadata": {},
   "outputs": [],
   "source": [
    "#relation opraters\n",
    "#<,>,==,!="
   ]
  },
  {
   "cell_type": "code",
   "execution_count": 11,
   "id": "b3829485",
   "metadata": {},
   "outputs": [],
   "source": [
    "a=50\n",
    "b=100"
   ]
  },
  {
   "cell_type": "code",
   "execution_count": 12,
   "id": "d2df9c24",
   "metadata": {},
   "outputs": [
    {
     "data": {
      "text/plain": [
       "False"
      ]
     },
     "execution_count": 12,
     "metadata": {},
     "output_type": "execute_result"
    }
   ],
   "source": [
    "a>b"
   ]
  },
  {
   "cell_type": "code",
   "execution_count": 13,
   "id": "cc21d7d7",
   "metadata": {},
   "outputs": [
    {
     "data": {
      "text/plain": [
       "True"
      ]
     },
     "execution_count": 13,
     "metadata": {},
     "output_type": "execute_result"
    }
   ],
   "source": [
    "a<b"
   ]
  },
  {
   "cell_type": "code",
   "execution_count": 14,
   "id": "15150eaf",
   "metadata": {},
   "outputs": [
    {
     "data": {
      "text/plain": [
       "False"
      ]
     },
     "execution_count": 14,
     "metadata": {},
     "output_type": "execute_result"
    }
   ],
   "source": [
    "a==b"
   ]
  },
  {
   "cell_type": "code",
   "execution_count": 15,
   "id": "02133933",
   "metadata": {},
   "outputs": [
    {
     "data": {
      "text/plain": [
       "True"
      ]
     },
     "execution_count": 15,
     "metadata": {},
     "output_type": "execute_result"
    }
   ],
   "source": [
    "a!=b"
   ]
  },
  {
   "cell_type": "code",
   "execution_count": 16,
   "id": "22ad1fa7",
   "metadata": {},
   "outputs": [],
   "source": [
    "#logical opraters"
   ]
  },
  {
   "cell_type": "code",
   "execution_count": 18,
   "id": "cc493796",
   "metadata": {},
   "outputs": [],
   "source": [
    "# &,|"
   ]
  },
  {
   "cell_type": "code",
   "execution_count": 20,
   "id": "1bfca3fa",
   "metadata": {},
   "outputs": [],
   "source": [
    "a=True\n",
    "b=False"
   ]
  },
  {
   "cell_type": "code",
   "execution_count": 21,
   "id": "f9fe01c6",
   "metadata": {},
   "outputs": [
    {
     "data": {
      "text/plain": [
       "True"
      ]
     },
     "execution_count": 21,
     "metadata": {},
     "output_type": "execute_result"
    }
   ],
   "source": [
    "a&a"
   ]
  },
  {
   "cell_type": "code",
   "execution_count": 22,
   "id": "bad0ad61",
   "metadata": {},
   "outputs": [
    {
     "data": {
      "text/plain": [
       "False"
      ]
     },
     "execution_count": 22,
     "metadata": {},
     "output_type": "execute_result"
    }
   ],
   "source": [
    "a&b"
   ]
  },
  {
   "cell_type": "code",
   "execution_count": 23,
   "id": "f8e0c8fb",
   "metadata": {},
   "outputs": [
    {
     "data": {
      "text/plain": [
       "False"
      ]
     },
     "execution_count": 23,
     "metadata": {},
     "output_type": "execute_result"
    }
   ],
   "source": [
    "b&a"
   ]
  },
  {
   "cell_type": "code",
   "execution_count": 24,
   "id": "724d4985",
   "metadata": {},
   "outputs": [
    {
     "data": {
      "text/plain": [
       "False"
      ]
     },
     "execution_count": 24,
     "metadata": {},
     "output_type": "execute_result"
    }
   ],
   "source": [
    "b&b"
   ]
  },
  {
   "cell_type": "code",
   "execution_count": 25,
   "id": "35333577",
   "metadata": {},
   "outputs": [
    {
     "data": {
      "text/plain": [
       "True"
      ]
     },
     "execution_count": 25,
     "metadata": {},
     "output_type": "execute_result"
    }
   ],
   "source": [
    "a|b"
   ]
  },
  {
   "cell_type": "code",
   "execution_count": 26,
   "id": "63c0a912",
   "metadata": {},
   "outputs": [
    {
     "data": {
      "text/plain": [
       "True"
      ]
     },
     "execution_count": 26,
     "metadata": {},
     "output_type": "execute_result"
    }
   ],
   "source": [
    "b|a"
   ]
  },
  {
   "cell_type": "code",
   "execution_count": 27,
   "id": "5c7d35d2",
   "metadata": {},
   "outputs": [
    {
     "data": {
      "text/plain": [
       "True"
      ]
     },
     "execution_count": 27,
     "metadata": {},
     "output_type": "execute_result"
    }
   ],
   "source": [
    "a|a"
   ]
  },
  {
   "cell_type": "code",
   "execution_count": 28,
   "id": "0d890746",
   "metadata": {},
   "outputs": [
    {
     "data": {
      "text/plain": [
       "False"
      ]
     },
     "execution_count": 28,
     "metadata": {},
     "output_type": "execute_result"
    }
   ],
   "source": [
    "b|b"
   ]
  },
  {
   "cell_type": "code",
   "execution_count": 29,
   "id": "ea64061a",
   "metadata": {},
   "outputs": [],
   "source": [
    "#python keyword"
   ]
  },
  {
   "cell_type": "code",
   "execution_count": 31,
   "id": "d9c4c32d",
   "metadata": {},
   "outputs": [
    {
     "ename": "SyntaxError",
     "evalue": "cannot assign to True (Temp/ipykernel_12240/2410390310.py, line 1)",
     "output_type": "error",
     "traceback": [
      "\u001b[1;36m  File \u001b[1;32m\"C:\\Users\\Aksha\\AppData\\Local\\Temp/ipykernel_12240/2410390310.py\"\u001b[1;36m, line \u001b[1;32m1\u001b[0m\n\u001b[1;33m    True =a\u001b[0m\n\u001b[1;37m    ^\u001b[0m\n\u001b[1;31mSyntaxError\u001b[0m\u001b[1;31m:\u001b[0m cannot assign to True\n"
     ]
    }
   ],
   "source": [
    "True =a"
   ]
  },
  {
   "cell_type": "code",
   "execution_count": 32,
   "id": "f86b8802",
   "metadata": {},
   "outputs": [],
   "source": [
    "student = \"akshy\""
   ]
  },
  {
   "cell_type": "code",
   "execution_count": 33,
   "id": "df9a8444",
   "metadata": {},
   "outputs": [],
   "source": [
    "Student=\"jully\""
   ]
  },
  {
   "cell_type": "code",
   "execution_count": 34,
   "id": "7254d59f",
   "metadata": {},
   "outputs": [
    {
     "data": {
      "text/plain": [
       "'akshy'"
      ]
     },
     "execution_count": 34,
     "metadata": {},
     "output_type": "execute_result"
    }
   ],
   "source": [
    "student"
   ]
  },
  {
   "cell_type": "code",
   "execution_count": 35,
   "id": "51f0133a",
   "metadata": {},
   "outputs": [
    {
     "data": {
      "text/plain": [
       "'jully'"
      ]
     },
     "execution_count": 35,
     "metadata": {},
     "output_type": "execute_result"
    }
   ],
   "source": [
    "Student"
   ]
  },
  {
   "cell_type": "code",
   "execution_count": 36,
   "id": "2f328977",
   "metadata": {},
   "outputs": [],
   "source": [
    "# puthon lilterals"
   ]
  },
  {
   "cell_type": "code",
   "execution_count": 37,
   "id": "8acad253",
   "metadata": {},
   "outputs": [],
   "source": [
    "a=1.3"
   ]
  },
  {
   "cell_type": "code",
   "execution_count": 38,
   "id": "3e7d93d8",
   "metadata": {},
   "outputs": [
    {
     "data": {
      "text/plain": [
       "1.3"
      ]
     },
     "execution_count": 38,
     "metadata": {},
     "output_type": "execute_result"
    }
   ],
   "source": [
    "a"
   ]
  },
  {
   "cell_type": "code",
   "execution_count": 39,
   "id": "02354220",
   "metadata": {},
   "outputs": [],
   "source": [
    "# srings"
   ]
  },
  {
   "cell_type": "code",
   "execution_count": 40,
   "id": "a884600a",
   "metadata": {},
   "outputs": [],
   "source": [
    "str1='this is one'"
   ]
  },
  {
   "cell_type": "code",
   "execution_count": 41,
   "id": "0f12ac15",
   "metadata": {},
   "outputs": [
    {
     "data": {
      "text/plain": [
       "'this is one'"
      ]
     },
     "execution_count": 41,
     "metadata": {},
     "output_type": "execute_result"
    }
   ],
   "source": [
    "str1"
   ]
  },
  {
   "cell_type": "code",
   "execution_count": 42,
   "id": "279bf252",
   "metadata": {},
   "outputs": [],
   "source": [
    "str2=\"this is \""
   ]
  },
  {
   "cell_type": "code",
   "execution_count": 43,
   "id": "2b46f359",
   "metadata": {},
   "outputs": [
    {
     "data": {
      "text/plain": [
       "'this is '"
      ]
     },
     "execution_count": 43,
     "metadata": {},
     "output_type": "execute_result"
    }
   ],
   "source": [
    "str2"
   ]
  },
  {
   "cell_type": "code",
   "execution_count": 44,
   "id": "9cc1ac84",
   "metadata": {},
   "outputs": [],
   "source": [
    "str3=\"'this string have lot of line\\n'\""
   ]
  },
  {
   "cell_type": "code",
   "execution_count": 46,
   "id": "2489fe91",
   "metadata": {},
   "outputs": [
    {
     "data": {
      "text/plain": [
       "\"'this string have lot of line'\""
      ]
     },
     "execution_count": 46,
     "metadata": {},
     "output_type": "execute_result"
    }
   ],
   "source": [
    "str3"
   ]
  },
  {
   "cell_type": "raw",
   "id": "f20349bb",
   "metadata": {},
   "source": [
    "my_string=\"my name \""
   ]
  },
  {
   "cell_type": "code",
   "execution_count": 47,
   "id": "c9903c7f",
   "metadata": {},
   "outputs": [],
   "source": [
    "my_string=\"my name \""
   ]
  },
  {
   "cell_type": "code",
   "execution_count": 48,
   "id": "89eef3fa",
   "metadata": {},
   "outputs": [
    {
     "data": {
      "text/plain": [
       "'my name '"
      ]
     },
     "execution_count": 48,
     "metadata": {},
     "output_type": "execute_result"
    }
   ],
   "source": [
    "my_string"
   ]
  },
  {
   "cell_type": "code",
   "execution_count": 49,
   "id": "efe9a989",
   "metadata": {},
   "outputs": [
    {
     "data": {
      "text/plain": [
       "'m'"
      ]
     },
     "execution_count": 49,
     "metadata": {},
     "output_type": "execute_result"
    }
   ],
   "source": [
    "my_string[0]"
   ]
  },
  {
   "cell_type": "code",
   "execution_count": 50,
   "id": "93db8062",
   "metadata": {},
   "outputs": [
    {
     "data": {
      "text/plain": [
       "' '"
      ]
     },
     "execution_count": 50,
     "metadata": {},
     "output_type": "execute_result"
    }
   ],
   "source": [
    "my_string[-1]"
   ]
  },
  {
   "cell_type": "code",
   "execution_count": 52,
   "id": "c487df6c",
   "metadata": {},
   "outputs": [
    {
     "data": {
      "text/plain": [
       "' na'"
      ]
     },
     "execution_count": 52,
     "metadata": {},
     "output_type": "execute_result"
    }
   ],
   "source": [
    "my_string[2:5]"
   ]
  },
  {
   "cell_type": "code",
   "execution_count": 53,
   "id": "a541b38d",
   "metadata": {},
   "outputs": [
    {
     "data": {
      "text/plain": [
       "8"
      ]
     },
     "execution_count": 53,
     "metadata": {},
     "output_type": "execute_result"
    }
   ],
   "source": [
    "len(my_string)"
   ]
  },
  {
   "cell_type": "code",
   "execution_count": 54,
   "id": "bc1b2134",
   "metadata": {},
   "outputs": [
    {
     "data": {
      "text/plain": [
       "'MY NAME '"
      ]
     },
     "execution_count": 54,
     "metadata": {},
     "output_type": "execute_result"
    }
   ],
   "source": [
    "my_string.upper()"
   ]
  },
  {
   "cell_type": "code",
   "execution_count": 55,
   "id": "bd2cf73d",
   "metadata": {},
   "outputs": [
    {
     "data": {
      "text/plain": [
       "'my name '"
      ]
     },
     "execution_count": 55,
     "metadata": {},
     "output_type": "execute_result"
    }
   ],
   "source": [
    "my_string.lower()"
   ]
  },
  {
   "cell_type": "code",
   "execution_count": 56,
   "id": "fc3e3d17",
   "metadata": {},
   "outputs": [
    {
     "data": {
      "text/plain": [
       "'ma name '"
      ]
     },
     "execution_count": 56,
     "metadata": {},
     "output_type": "execute_result"
    }
   ],
   "source": [
    "my_string.replace('y','a')"
   ]
  },
  {
   "cell_type": "code",
   "execution_count": 58,
   "id": "a9f4fb62",
   "metadata": {},
   "outputs": [
    {
     "data": {
      "text/plain": [
       "1"
      ]
     },
     "execution_count": 58,
     "metadata": {},
     "output_type": "execute_result"
    }
   ],
   "source": [
    "my_string.count(\"a\")"
   ]
  },
  {
   "cell_type": "code",
   "execution_count": 64,
   "id": "aa1c6160",
   "metadata": {},
   "outputs": [],
   "source": [
    "s=\"name, is, name\""
   ]
  },
  {
   "cell_type": "code",
   "execution_count": 65,
   "id": "8e60c4e5",
   "metadata": {},
   "outputs": [
    {
     "data": {
      "text/plain": [
       "'name, is, name'"
      ]
     },
     "execution_count": 65,
     "metadata": {},
     "output_type": "execute_result"
    }
   ],
   "source": [
    "s"
   ]
  },
  {
   "cell_type": "code",
   "execution_count": 66,
   "id": "72a11f46",
   "metadata": {},
   "outputs": [
    {
     "data": {
      "text/plain": [
       "2"
      ]
     },
     "execution_count": 66,
     "metadata": {},
     "output_type": "execute_result"
    }
   ],
   "source": [
    "s.count(\"name\")"
   ]
  },
  {
   "cell_type": "code",
   "execution_count": 67,
   "id": "a26c5eea",
   "metadata": {},
   "outputs": [
    {
     "data": {
      "text/plain": [
       "0"
      ]
     },
     "execution_count": 67,
     "metadata": {},
     "output_type": "execute_result"
    }
   ],
   "source": [
    "s.find('name')"
   ]
  },
  {
   "cell_type": "code",
   "execution_count": 68,
   "id": "c4691ca8",
   "metadata": {},
   "outputs": [
    {
     "data": {
      "text/plain": [
       "1"
      ]
     },
     "execution_count": 68,
     "metadata": {},
     "output_type": "execute_result"
    }
   ],
   "source": [
    "s.find('a')"
   ]
  },
  {
   "cell_type": "code",
   "execution_count": 69,
   "id": "b54d29a9",
   "metadata": {},
   "outputs": [
    {
     "data": {
      "text/plain": [
       "['name', ' is', ' name']"
      ]
     },
     "execution_count": 69,
     "metadata": {},
     "output_type": "execute_result"
    }
   ],
   "source": [
    "s.split(',')"
   ]
  },
  {
   "cell_type": "code",
   "execution_count": 70,
   "id": "d0c1312a",
   "metadata": {},
   "outputs": [],
   "source": [
    "sa='hello wprld is good'"
   ]
  },
  {
   "cell_type": "code",
   "execution_count": 71,
   "id": "a98a8db8",
   "metadata": {},
   "outputs": [
    {
     "data": {
      "text/plain": [
       "'hello wprld is good'"
      ]
     },
     "execution_count": 71,
     "metadata": {},
     "output_type": "execute_result"
    }
   ],
   "source": [
    "sa"
   ]
  },
  {
   "cell_type": "code",
   "execution_count": 72,
   "id": "c7cebb2a",
   "metadata": {},
   "outputs": [
    {
     "data": {
      "text/plain": [
       "12"
      ]
     },
     "execution_count": 72,
     "metadata": {},
     "output_type": "execute_result"
    }
   ],
   "source": [
    "sa.find('i')"
   ]
  },
  {
   "cell_type": "code",
   "execution_count": 76,
   "id": "41a3a562",
   "metadata": {},
   "outputs": [],
   "source": [
    "str='hello world'"
   ]
  },
  {
   "cell_type": "code",
   "execution_count": 77,
   "id": "f1c73781",
   "metadata": {},
   "outputs": [
    {
     "data": {
      "text/plain": [
       "['h', 'llo world']"
      ]
     },
     "execution_count": 77,
     "metadata": {},
     "output_type": "execute_result"
    }
   ],
   "source": [
    "str.split('e')"
   ]
  },
  {
   "cell_type": "code",
   "execution_count": 78,
   "id": "06e31dbd",
   "metadata": {},
   "outputs": [],
   "source": [
    "# tuple  example (1,'a',True) "
   ]
  },
  {
   "cell_type": "code",
   "execution_count": 79,
   "id": "86bce4a9",
   "metadata": {},
   "outputs": [],
   "source": [
    "tup1=(1,True,2.3,5-7j)"
   ]
  },
  {
   "cell_type": "code",
   "execution_count": 80,
   "id": "1672f5a6",
   "metadata": {},
   "outputs": [
    {
     "data": {
      "text/plain": [
       "(1, True, 2.3, (5-7j))"
      ]
     },
     "execution_count": 80,
     "metadata": {},
     "output_type": "execute_result"
    }
   ],
   "source": [
    "tup1"
   ]
  },
  {
   "cell_type": "code",
   "execution_count": 82,
   "id": "8795274b",
   "metadata": {},
   "outputs": [
    {
     "data": {
      "text/plain": [
       "tuple"
      ]
     },
     "execution_count": 82,
     "metadata": {},
     "output_type": "execute_result"
    }
   ],
   "source": [
    "type(tup1)"
   ]
  },
  {
   "cell_type": "code",
   "execution_count": 87,
   "id": "dd3b17d1",
   "metadata": {},
   "outputs": [
    {
     "data": {
      "text/plain": [
       "True"
      ]
     },
     "execution_count": 87,
     "metadata": {},
     "output_type": "execute_result"
    }
   ],
   "source": [
    "tup1[1]"
   ]
  },
  {
   "cell_type": "code",
   "execution_count": 88,
   "id": "f7a21bf4",
   "metadata": {},
   "outputs": [
    {
     "data": {
      "text/plain": [
       "(5-7j)"
      ]
     },
     "execution_count": 88,
     "metadata": {},
     "output_type": "execute_result"
    }
   ],
   "source": [
    "tup1[-1]"
   ]
  },
  {
   "cell_type": "code",
   "execution_count": 89,
   "id": "a495faed",
   "metadata": {},
   "outputs": [
    {
     "data": {
      "text/plain": [
       "(1, True)"
      ]
     },
     "execution_count": 89,
     "metadata": {},
     "output_type": "execute_result"
    }
   ],
   "source": [
    "tup1[0:2]"
   ]
  },
  {
   "cell_type": "code",
   "execution_count": 90,
   "id": "a7bf27df",
   "metadata": {},
   "outputs": [
    {
     "ename": "TypeError",
     "evalue": "'tuple' object does not support item assignment",
     "output_type": "error",
     "traceback": [
      "\u001b[1;31m---------------------------------------------------------------------------\u001b[0m",
      "\u001b[1;31mTypeError\u001b[0m                                 Traceback (most recent call last)",
      "\u001b[1;32m~\\AppData\\Local\\Temp/ipykernel_12240/764570895.py\u001b[0m in \u001b[0;36m<module>\u001b[1;34m\u001b[0m\n\u001b[1;32m----> 1\u001b[1;33m \u001b[0mtup1\u001b[0m\u001b[1;33m[\u001b[0m\u001b[1;36m2\u001b[0m\u001b[1;33m]\u001b[0m\u001b[1;33m=\u001b[0m\u001b[1;34m'hello'\u001b[0m\u001b[1;33m\u001b[0m\u001b[1;33m\u001b[0m\u001b[0m\n\u001b[0m",
      "\u001b[1;31mTypeError\u001b[0m: 'tuple' object does not support item assignment"
     ]
    }
   ],
   "source": [
    "tup1[2]='hello'"
   ]
  },
  {
   "cell_type": "code",
   "execution_count": 91,
   "id": "567e91b4",
   "metadata": {},
   "outputs": [
    {
     "data": {
      "text/plain": [
       "4"
      ]
     },
     "execution_count": 91,
     "metadata": {},
     "output_type": "execute_result"
    }
   ],
   "source": [
    "len(tup1)"
   ]
  },
  {
   "cell_type": "code",
   "execution_count": 93,
   "id": "76c2ac01",
   "metadata": {},
   "outputs": [],
   "source": [
    "tup2=(1,2,3,4)"
   ]
  },
  {
   "cell_type": "code",
   "execution_count": 96,
   "id": "3705d013",
   "metadata": {},
   "outputs": [
    {
     "data": {
      "text/plain": [
       "((1, True, 2.3, (5-7j)), (1, 2, 3, 4))"
      ]
     },
     "execution_count": 96,
     "metadata": {},
     "output_type": "execute_result"
    }
   ],
   "source": [
    "tup1,tup2"
   ]
  },
  {
   "cell_type": "code",
   "execution_count": 97,
   "id": "27aaf040",
   "metadata": {},
   "outputs": [
    {
     "data": {
      "text/plain": [
       "(1, True, 2.3, (5-7j), 1, 2, 3, 4)"
      ]
     },
     "execution_count": 97,
     "metadata": {},
     "output_type": "execute_result"
    }
   ],
   "source": [
    "tup1+tup2"
   ]
  },
  {
   "cell_type": "code",
   "execution_count": 98,
   "id": "a9ea2d6a",
   "metadata": {},
   "outputs": [
    {
     "data": {
      "text/plain": [
       "(1, 2, 3, 4, 1, True, 2.3, (5-7j))"
      ]
     },
     "execution_count": 98,
     "metadata": {},
     "output_type": "execute_result"
    }
   ],
   "source": [
    "tup2+tup1"
   ]
  },
  {
   "cell_type": "code",
   "execution_count": 99,
   "id": "e04cd207",
   "metadata": {},
   "outputs": [],
   "source": [
    "tup=('wa',200)"
   ]
  },
  {
   "cell_type": "code",
   "execution_count": 102,
   "id": "2fabdefd",
   "metadata": {},
   "outputs": [
    {
     "data": {
      "text/plain": [
       "('wa', 200, 'wa', 200, 'wa', 200, 1, 2, 3, 4)"
      ]
     },
     "execution_count": 102,
     "metadata": {},
     "output_type": "execute_result"
    }
   ],
   "source": [
    "tup*3+tup2"
   ]
  },
  {
   "cell_type": "code",
   "execution_count": 104,
   "id": "308ea539",
   "metadata": {},
   "outputs": [
    {
     "data": {
      "text/plain": [
       "1"
      ]
     },
     "execution_count": 104,
     "metadata": {},
     "output_type": "execute_result"
    }
   ],
   "source": [
    "min(tup2)"
   ]
  },
  {
   "cell_type": "code",
   "execution_count": 106,
   "id": "a7cd4c8f",
   "metadata": {},
   "outputs": [
    {
     "data": {
      "text/plain": [
       "4"
      ]
     },
     "execution_count": 106,
     "metadata": {},
     "output_type": "execute_result"
    }
   ],
   "source": [
    "max(tup2)"
   ]
  },
  {
   "cell_type": "code",
   "execution_count": 108,
   "id": "824a6075",
   "metadata": {},
   "outputs": [],
   "source": [
    " # list [1,a,True] change data any time\n",
    "  #  list is mutable"
   ]
  },
  {
   "cell_type": "code",
   "execution_count": 111,
   "id": "6d36e885",
   "metadata": {},
   "outputs": [],
   "source": [
    "l1=[1,'sp',3.14,True ]"
   ]
  },
  {
   "cell_type": "code",
   "execution_count": 112,
   "id": "c8d61fff",
   "metadata": {},
   "outputs": [
    {
     "data": {
      "text/plain": [
       "[1, 'sp', 3.14, True]"
      ]
     },
     "execution_count": 112,
     "metadata": {},
     "output_type": "execute_result"
    }
   ],
   "source": [
    "l1"
   ]
  },
  {
   "cell_type": "code",
   "execution_count": 113,
   "id": "55daf9b7",
   "metadata": {},
   "outputs": [
    {
     "data": {
      "text/plain": [
       "list"
      ]
     },
     "execution_count": 113,
     "metadata": {},
     "output_type": "execute_result"
    }
   ],
   "source": [
    "type(l1)"
   ]
  },
  {
   "cell_type": "code",
   "execution_count": 116,
   "id": "6f560fbf",
   "metadata": {},
   "outputs": [
    {
     "data": {
      "text/plain": [
       "'sp'"
      ]
     },
     "execution_count": 116,
     "metadata": {},
     "output_type": "execute_result"
    }
   ],
   "source": [
    "l1[1]"
   ]
  },
  {
   "cell_type": "code",
   "execution_count": 117,
   "id": "9a74426e",
   "metadata": {},
   "outputs": [
    {
     "data": {
      "text/plain": [
       "[3.14, True]"
      ]
     },
     "execution_count": 117,
     "metadata": {},
     "output_type": "execute_result"
    }
   ],
   "source": [
    "l1[2:4]"
   ]
  },
  {
   "cell_type": "code",
   "execution_count": 118,
   "id": "c72e9ad1",
   "metadata": {},
   "outputs": [
    {
     "data": {
      "text/plain": [
       "True"
      ]
     },
     "execution_count": 118,
     "metadata": {},
     "output_type": "execute_result"
    }
   ],
   "source": [
    "l1[-1]"
   ]
  },
  {
   "cell_type": "code",
   "execution_count": 119,
   "id": "325ea3b7",
   "metadata": {},
   "outputs": [
    {
     "data": {
      "text/plain": [
       "['sp', 3.14]"
      ]
     },
     "execution_count": 119,
     "metadata": {},
     "output_type": "execute_result"
    }
   ],
   "source": [
    "l1[1:3]"
   ]
  },
  {
   "cell_type": "code",
   "execution_count": 120,
   "id": "749a9141",
   "metadata": {},
   "outputs": [],
   "source": [
    "l1[0]=100"
   ]
  },
  {
   "cell_type": "code",
   "execution_count": 121,
   "id": "834cbc1c",
   "metadata": {},
   "outputs": [
    {
     "data": {
      "text/plain": [
       "[100, 'sp', 3.14, True]"
      ]
     },
     "execution_count": 121,
     "metadata": {},
     "output_type": "execute_result"
    }
   ],
   "source": [
    "l1"
   ]
  },
  {
   "cell_type": "code",
   "execution_count": 122,
   "id": "427c06f8",
   "metadata": {},
   "outputs": [],
   "source": [
    "l1.append('sak')"
   ]
  },
  {
   "cell_type": "code",
   "execution_count": 123,
   "id": "79d6b44c",
   "metadata": {},
   "outputs": [
    {
     "data": {
      "text/plain": [
       "[100, 'sp', 3.14, True, 'sak']"
      ]
     },
     "execution_count": 123,
     "metadata": {},
     "output_type": "execute_result"
    }
   ],
   "source": [
    "l1"
   ]
  },
  {
   "cell_type": "code",
   "execution_count": 125,
   "id": "11fd1fd0",
   "metadata": {},
   "outputs": [
    {
     "ename": "NameError",
     "evalue": "name 'pop' is not defined",
     "output_type": "error",
     "traceback": [
      "\u001b[1;31m---------------------------------------------------------------------------\u001b[0m",
      "\u001b[1;31mNameError\u001b[0m                                 Traceback (most recent call last)",
      "\u001b[1;32m~\\AppData\\Local\\Temp/ipykernel_12240/3834098524.py\u001b[0m in \u001b[0;36m<module>\u001b[1;34m\u001b[0m\n\u001b[1;32m----> 1\u001b[1;33m \u001b[0mpop\u001b[0m\u001b[1;33m(\u001b[0m\u001b[1;36m1\u001b[0m\u001b[1;33m)\u001b[0m\u001b[1;33m\u001b[0m\u001b[1;33m\u001b[0m\u001b[0m\n\u001b[0m",
      "\u001b[1;31mNameError\u001b[0m: name 'pop' is not defined"
     ]
    }
   ],
   "source": [
    "pop(1)"
   ]
  },
  {
   "cell_type": "code",
   "execution_count": 126,
   "id": "ba178c6d",
   "metadata": {},
   "outputs": [],
   "source": [
    "l1.append(9.234)"
   ]
  },
  {
   "cell_type": "code",
   "execution_count": 127,
   "id": "02dd5b4d",
   "metadata": {},
   "outputs": [
    {
     "data": {
      "text/plain": [
       "[100, 'sp', 3.14, True, 'sak', 9.234]"
      ]
     },
     "execution_count": 127,
     "metadata": {},
     "output_type": "execute_result"
    }
   ],
   "source": [
    "l1"
   ]
  },
  {
   "cell_type": "code",
   "execution_count": 128,
   "id": "0c23e735",
   "metadata": {},
   "outputs": [
    {
     "data": {
      "text/plain": [
       "9.234"
      ]
     },
     "execution_count": 128,
     "metadata": {},
     "output_type": "execute_result"
    }
   ],
   "source": [
    "l1.pop()"
   ]
  },
  {
   "cell_type": "code",
   "execution_count": 129,
   "id": "6cf0c5cf",
   "metadata": {},
   "outputs": [
    {
     "data": {
      "text/plain": [
       "[100, 'sp', 3.14, True, 'sak']"
      ]
     },
     "execution_count": 129,
     "metadata": {},
     "output_type": "execute_result"
    }
   ],
   "source": [
    "l1"
   ]
  },
  {
   "cell_type": "code",
   "execution_count": 130,
   "id": "da9be531",
   "metadata": {},
   "outputs": [
    {
     "data": {
      "text/plain": [
       "'sp'"
      ]
     },
     "execution_count": 130,
     "metadata": {},
     "output_type": "execute_result"
    }
   ],
   "source": [
    "l1.pop(1)"
   ]
  },
  {
   "cell_type": "code",
   "execution_count": 131,
   "id": "659a8cb3",
   "metadata": {},
   "outputs": [
    {
     "data": {
      "text/plain": [
       "[100, 3.14, True, 'sak']"
      ]
     },
     "execution_count": 131,
     "metadata": {},
     "output_type": "execute_result"
    }
   ],
   "source": [
    "l1"
   ]
  },
  {
   "cell_type": "code",
   "execution_count": 132,
   "id": "919f6b20",
   "metadata": {},
   "outputs": [],
   "source": [
    "l1.reverse()"
   ]
  },
  {
   "cell_type": "code",
   "execution_count": 133,
   "id": "a1881da4",
   "metadata": {},
   "outputs": [
    {
     "data": {
      "text/plain": [
       "['sak', True, 3.14, 100]"
      ]
     },
     "execution_count": 133,
     "metadata": {},
     "output_type": "execute_result"
    }
   ],
   "source": [
    "l1"
   ]
  },
  {
   "cell_type": "code",
   "execution_count": 135,
   "id": "37160589",
   "metadata": {},
   "outputs": [],
   "source": [
    "l1.insert(1,\"9.21\")"
   ]
  },
  {
   "cell_type": "code",
   "execution_count": 136,
   "id": "ae444dfa",
   "metadata": {},
   "outputs": [
    {
     "data": {
      "text/plain": [
       "['sak', '9.21', True, 3.14, 100]"
      ]
     },
     "execution_count": 136,
     "metadata": {},
     "output_type": "execute_result"
    }
   ],
   "source": [
    "l1"
   ]
  },
  {
   "cell_type": "code",
   "execution_count": 139,
   "id": "2ae85801",
   "metadata": {},
   "outputs": [],
   "source": [
    "l1.reverse()"
   ]
  },
  {
   "cell_type": "code",
   "execution_count": 141,
   "id": "eb7f0bbd",
   "metadata": {},
   "outputs": [],
   "source": [
    "l1.insert(2,\"hello\")"
   ]
  },
  {
   "cell_type": "code",
   "execution_count": 142,
   "id": "bdbe56f3",
   "metadata": {},
   "outputs": [
    {
     "data": {
      "text/plain": [
       "[100, 3.14, 'hello', True, '9.21', 'sak']"
      ]
     },
     "execution_count": 142,
     "metadata": {},
     "output_type": "execute_result"
    }
   ],
   "source": [
    "l1"
   ]
  },
  {
   "cell_type": "code",
   "execution_count": 145,
   "id": "42d63acd",
   "metadata": {},
   "outputs": [],
   "source": [
    "l2=['a','b','f','c']"
   ]
  },
  {
   "cell_type": "code",
   "execution_count": 146,
   "id": "e6046ea9",
   "metadata": {},
   "outputs": [],
   "source": [
    "l2.sort()"
   ]
  },
  {
   "cell_type": "code",
   "execution_count": 147,
   "id": "187a5a2b",
   "metadata": {},
   "outputs": [
    {
     "data": {
      "text/plain": [
       "['a', 'b', 'c', 'f']"
      ]
     },
     "execution_count": 147,
     "metadata": {},
     "output_type": "execute_result"
    }
   ],
   "source": [
    "l2"
   ]
  },
  {
   "cell_type": "code",
   "execution_count": 148,
   "id": "80431a6f",
   "metadata": {},
   "outputs": [
    {
     "data": {
      "text/plain": [
       "[100, 3.14, 'hello', True, '9.21', 'sak', 'a', 'b', 'c', 'f']"
      ]
     },
     "execution_count": 148,
     "metadata": {},
     "output_type": "execute_result"
    }
   ],
   "source": [
    "l1+l2"
   ]
  },
  {
   "cell_type": "code",
   "execution_count": 149,
   "id": "f6a4d06d",
   "metadata": {},
   "outputs": [
    {
     "data": {
      "text/plain": [
       "[100,\n",
       " 3.14,\n",
       " 'hello',\n",
       " True,\n",
       " '9.21',\n",
       " 'sak',\n",
       " 100,\n",
       " 3.14,\n",
       " 'hello',\n",
       " True,\n",
       " '9.21',\n",
       " 'sak']"
      ]
     },
     "execution_count": 149,
     "metadata": {},
     "output_type": "execute_result"
    }
   ],
   "source": [
    "l1*2"
   ]
  },
  {
   "cell_type": "code",
   "execution_count": 150,
   "id": "3d6318a5",
   "metadata": {},
   "outputs": [
    {
     "data": {
      "text/plain": [
       "['a', 'b', 'c', 'f', 100, 3.14, 'hello', True, '9.21', 'sak']"
      ]
     },
     "execution_count": 150,
     "metadata": {},
     "output_type": "execute_result"
    }
   ],
   "source": [
    "l2+l1"
   ]
  },
  {
   "cell_type": "code",
   "execution_count": 151,
   "id": "3541d6e2",
   "metadata": {},
   "outputs": [
    {
     "data": {
      "text/plain": [
       "[100,\n",
       " 3.14,\n",
       " 'hello',\n",
       " True,\n",
       " '9.21',\n",
       " 'sak',\n",
       " 100,\n",
       " 3.14,\n",
       " 'hello',\n",
       " True,\n",
       " '9.21',\n",
       " 'sak',\n",
       " 100,\n",
       " 3.14,\n",
       " 'hello',\n",
       " True,\n",
       " '9.21',\n",
       " 'sak']"
      ]
     },
     "execution_count": 151,
     "metadata": {},
     "output_type": "execute_result"
    }
   ],
   "source": [
    "l1*2+l1"
   ]
  },
  {
   "cell_type": "code",
   "execution_count": 153,
   "id": "e754f682",
   "metadata": {},
   "outputs": [],
   "source": [
    "# Dictionary is an unordered collection of key-value pairs enclosed with {}\n",
    "# this is mutable \n",
    "# Fruit={\"apple\":10,\"Orange\":20}\n",
    "# it has key value par  "
   ]
  },
  {
   "cell_type": "code",
   "execution_count": 155,
   "id": "3e49ffb3",
   "metadata": {},
   "outputs": [],
   "source": [
    "d1={'apple':10,'mango':100,'guava':120,'banana':500}"
   ]
  },
  {
   "cell_type": "code",
   "execution_count": 156,
   "id": "c6cabe17",
   "metadata": {},
   "outputs": [
    {
     "data": {
      "text/plain": [
       "{'apple': 10, 'mango': 100, 'guava': 120, 'banana': 500}"
      ]
     },
     "execution_count": 156,
     "metadata": {},
     "output_type": "execute_result"
    }
   ],
   "source": [
    "d1"
   ]
  },
  {
   "cell_type": "code",
   "execution_count": 157,
   "id": "f40973ad",
   "metadata": {},
   "outputs": [
    {
     "data": {
      "text/plain": [
       "dict"
      ]
     },
     "execution_count": 157,
     "metadata": {},
     "output_type": "execute_result"
    }
   ],
   "source": [
    "type(d1)"
   ]
  },
  {
   "cell_type": "code",
   "execution_count": 158,
   "id": "d0751676",
   "metadata": {},
   "outputs": [
    {
     "data": {
      "text/plain": [
       "dict_keys(['apple', 'mango', 'guava', 'banana'])"
      ]
     },
     "execution_count": 158,
     "metadata": {},
     "output_type": "execute_result"
    }
   ],
   "source": [
    "d1.keys()"
   ]
  },
  {
   "cell_type": "code",
   "execution_count": 159,
   "id": "b40d7f03",
   "metadata": {},
   "outputs": [
    {
     "data": {
      "text/plain": [
       "dict_values([10, 100, 120, 500])"
      ]
     },
     "execution_count": 159,
     "metadata": {},
     "output_type": "execute_result"
    }
   ],
   "source": [
    "d1.values()"
   ]
  },
  {
   "cell_type": "code",
   "execution_count": 161,
   "id": "7fc4cbe9",
   "metadata": {},
   "outputs": [],
   "source": [
    "d1[\"mangos\"]=50"
   ]
  },
  {
   "cell_type": "code",
   "execution_count": 162,
   "id": "44922531",
   "metadata": {},
   "outputs": [
    {
     "data": {
      "text/plain": [
       "{'apple': 10, 'mango': 100, 'guava': 120, 'banana': 500, 'mangos': 50}"
      ]
     },
     "execution_count": 162,
     "metadata": {},
     "output_type": "execute_result"
    }
   ],
   "source": [
    "d1"
   ]
  },
  {
   "cell_type": "code",
   "execution_count": 170,
   "id": "8581413d",
   "metadata": {},
   "outputs": [],
   "source": [
    "d1['apple']=100"
   ]
  },
  {
   "cell_type": "code",
   "execution_count": 171,
   "id": "a9dea84c",
   "metadata": {},
   "outputs": [
    {
     "data": {
      "text/plain": [
       "{'apple': 100, 'mango': 100, 'guava': 120, 'banana': 500, 'mangos': 50}"
      ]
     },
     "execution_count": 171,
     "metadata": {},
     "output_type": "execute_result"
    }
   ],
   "source": [
    "d1"
   ]
  },
  {
   "cell_type": "code",
   "execution_count": 172,
   "id": "23ad8fe6",
   "metadata": {},
   "outputs": [
    {
     "data": {
      "text/plain": [
       "{'apple': 100, 'mango': 100, 'guava': 120, 'banana': 500, 'mangos': 50}"
      ]
     },
     "execution_count": 172,
     "metadata": {},
     "output_type": "execute_result"
    }
   ],
   "source": [
    "d1"
   ]
  },
  {
   "cell_type": "code",
   "execution_count": 173,
   "id": "e133307c",
   "metadata": {},
   "outputs": [
    {
     "data": {
      "text/plain": [
       "{'apple': 100, 'mango': 100, 'guava': 120, 'banana': 500, 'mangos': 50}"
      ]
     },
     "execution_count": 173,
     "metadata": {},
     "output_type": "execute_result"
    }
   ],
   "source": [
    "d1"
   ]
  },
  {
   "cell_type": "code",
   "execution_count": 174,
   "id": "de05949f",
   "metadata": {},
   "outputs": [],
   "source": [
    "d2={'veg':25,'set':32}"
   ]
  },
  {
   "cell_type": "code",
   "execution_count": 175,
   "id": "d864b262",
   "metadata": {},
   "outputs": [],
   "source": [
    "d1.update(d2)"
   ]
  },
  {
   "cell_type": "code",
   "execution_count": 176,
   "id": "c2eab321",
   "metadata": {},
   "outputs": [
    {
     "data": {
      "text/plain": [
       "{'apple': 100,\n",
       " 'mango': 100,\n",
       " 'guava': 120,\n",
       " 'banana': 500,\n",
       " 'mangos': 50,\n",
       " 'veg': 25,\n",
       " 'set': 32}"
      ]
     },
     "execution_count": 176,
     "metadata": {},
     "output_type": "execute_result"
    }
   ],
   "source": [
    "d1"
   ]
  },
  {
   "cell_type": "code",
   "execution_count": 179,
   "id": "36bf46fa",
   "metadata": {},
   "outputs": [
    {
     "data": {
      "text/plain": [
       "100"
      ]
     },
     "execution_count": 179,
     "metadata": {},
     "output_type": "execute_result"
    }
   ],
   "source": [
    "d1.pop('apple')"
   ]
  },
  {
   "cell_type": "code",
   "execution_count": 180,
   "id": "7355b33f",
   "metadata": {},
   "outputs": [
    {
     "data": {
      "text/plain": [
       "{'mango': 100, 'guava': 120, 'banana': 500, 'mangos': 50, 'veg': 25, 'set': 32}"
      ]
     },
     "execution_count": 180,
     "metadata": {},
     "output_type": "execute_result"
    }
   ],
   "source": [
    "d1"
   ]
  },
  {
   "cell_type": "code",
   "execution_count": 183,
   "id": "499de29d",
   "metadata": {},
   "outputs": [
    {
     "data": {
      "text/plain": [
       "25"
      ]
     },
     "execution_count": 183,
     "metadata": {},
     "output_type": "execute_result"
    }
   ],
   "source": [
    "d2.pop('veg')"
   ]
  },
  {
   "cell_type": "code",
   "execution_count": 184,
   "id": "b0c57081",
   "metadata": {},
   "outputs": [
    {
     "data": {
      "text/plain": [
       "{'mango': 100, 'guava': 120, 'banana': 500, 'mangos': 50, 'veg': 25, 'set': 32}"
      ]
     },
     "execution_count": 184,
     "metadata": {},
     "output_type": "execute_result"
    }
   ],
   "source": [
    "d1"
   ]
  },
  {
   "cell_type": "code",
   "execution_count": 185,
   "id": "9dca84ae",
   "metadata": {},
   "outputs": [
    {
     "data": {
      "text/plain": [
       "25"
      ]
     },
     "execution_count": 185,
     "metadata": {},
     "output_type": "execute_result"
    }
   ],
   "source": [
    "d1.pop('veg')"
   ]
  },
  {
   "cell_type": "code",
   "execution_count": 186,
   "id": "1cf37a6d",
   "metadata": {},
   "outputs": [
    {
     "data": {
      "text/plain": [
       "{'mango': 100, 'guava': 120, 'banana': 500, 'mangos': 50, 'set': 32}"
      ]
     },
     "execution_count": 186,
     "metadata": {},
     "output_type": "execute_result"
    }
   ],
   "source": [
    "d1"
   ]
  },
  {
   "cell_type": "code",
   "execution_count": 187,
   "id": "680e6b16",
   "metadata": {},
   "outputs": [
    {
     "data": {
      "text/plain": [
       "32"
      ]
     },
     "execution_count": 187,
     "metadata": {},
     "output_type": "execute_result"
    }
   ],
   "source": [
    "d1.pop('set')"
   ]
  },
  {
   "cell_type": "code",
   "execution_count": 188,
   "id": "796bb56c",
   "metadata": {},
   "outputs": [],
   "source": [
    "# Set in an unordered and unindexed collection of elements enclosed with {}\n",
    "# Duplicates are not allowed in Set \n",
    "s1={1,\"a\",\"True\"}"
   ]
  },
  {
   "cell_type": "code",
   "execution_count": 189,
   "id": "bfc56392",
   "metadata": {},
   "outputs": [],
   "source": [
    "s1={1,3.14,'sparta'}"
   ]
  },
  {
   "cell_type": "code",
   "execution_count": 190,
   "id": "0b18bc94",
   "metadata": {},
   "outputs": [
    {
     "data": {
      "text/plain": [
       "{1, 3.14, 'sparta'}"
      ]
     },
     "execution_count": 190,
     "metadata": {},
     "output_type": "execute_result"
    }
   ],
   "source": [
    "s1"
   ]
  },
  {
   "cell_type": "code",
   "execution_count": 191,
   "id": "3b99cc2d",
   "metadata": {},
   "outputs": [],
   "source": [
    "s1={1,3.14,'sparta',3.14,'sparta'}"
   ]
  },
  {
   "cell_type": "code",
   "execution_count": 192,
   "id": "ac12a537",
   "metadata": {},
   "outputs": [
    {
     "data": {
      "text/plain": [
       "{1, 3.14, 'sparta'}"
      ]
     },
     "execution_count": 192,
     "metadata": {},
     "output_type": "execute_result"
    }
   ],
   "source": [
    "s1"
   ]
  },
  {
   "cell_type": "code",
   "execution_count": 193,
   "id": "cf445447",
   "metadata": {},
   "outputs": [],
   "source": [
    "s1.add(\"hello\")"
   ]
  },
  {
   "cell_type": "code",
   "execution_count": 194,
   "id": "10e7e187",
   "metadata": {},
   "outputs": [
    {
     "data": {
      "text/plain": [
       "{1, 3.14, 'hello', 'sparta'}"
      ]
     },
     "execution_count": 194,
     "metadata": {},
     "output_type": "execute_result"
    }
   ],
   "source": [
    "s1"
   ]
  },
  {
   "cell_type": "code",
   "execution_count": 196,
   "id": "5c425369",
   "metadata": {},
   "outputs": [],
   "source": [
    "s1.update([10,100,20])"
   ]
  },
  {
   "cell_type": "code",
   "execution_count": 197,
   "id": "888b92ab",
   "metadata": {},
   "outputs": [
    {
     "data": {
      "text/plain": [
       "{1, 10, 100, 20, 3.14, 'hello', 'sparta'}"
      ]
     },
     "execution_count": 197,
     "metadata": {},
     "output_type": "execute_result"
    }
   ],
   "source": [
    "s1"
   ]
  },
  {
   "cell_type": "code",
   "execution_count": 198,
   "id": "68d5516b",
   "metadata": {},
   "outputs": [],
   "source": [
    "s1.remove('hello')"
   ]
  },
  {
   "cell_type": "code",
   "execution_count": 199,
   "id": "63851c9c",
   "metadata": {},
   "outputs": [
    {
     "data": {
      "text/plain": [
       "{1, 10, 100, 20, 3.14, 'sparta'}"
      ]
     },
     "execution_count": 199,
     "metadata": {},
     "output_type": "execute_result"
    }
   ],
   "source": [
    "s1"
   ]
  },
  {
   "cell_type": "code",
   "execution_count": 202,
   "id": "2adbfce2",
   "metadata": {},
   "outputs": [],
   "source": [
    "s1.add(12)"
   ]
  },
  {
   "cell_type": "code",
   "execution_count": 203,
   "id": "2de18289",
   "metadata": {},
   "outputs": [
    {
     "data": {
      "text/plain": [
       "{1, 10, 100, 12, 20, 3.14, 'sparta'}"
      ]
     },
     "execution_count": 203,
     "metadata": {},
     "output_type": "execute_result"
    }
   ],
   "source": [
    "s1"
   ]
  },
  {
   "cell_type": "code",
   "execution_count": 205,
   "id": "8157f084",
   "metadata": {},
   "outputs": [],
   "source": [
    "s1.update([10,23,'hello'])"
   ]
  },
  {
   "cell_type": "code",
   "execution_count": 206,
   "id": "b28d1cde",
   "metadata": {},
   "outputs": [
    {
     "data": {
      "text/plain": [
       "{1, 10, 100, 12, 20, 23, 3.14, 'hello', 'sparta'}"
      ]
     },
     "execution_count": 206,
     "metadata": {},
     "output_type": "execute_result"
    }
   ],
   "source": [
    "s1"
   ]
  },
  {
   "cell_type": "code",
   "execution_count": 207,
   "id": "02d7daa0",
   "metadata": {},
   "outputs": [],
   "source": [
    "s1.remove(12)"
   ]
  },
  {
   "cell_type": "code",
   "execution_count": 208,
   "id": "2c057666",
   "metadata": {},
   "outputs": [
    {
     "data": {
      "text/plain": [
       "{1, 10, 100, 20, 23, 3.14, 'hello', 'sparta'}"
      ]
     },
     "execution_count": 208,
     "metadata": {},
     "output_type": "execute_result"
    }
   ],
   "source": [
    "s1"
   ]
  },
  {
   "cell_type": "code",
   "execution_count": 210,
   "id": "6a8b2feb",
   "metadata": {},
   "outputs": [],
   "source": [
    "s2={\"a\",\"b\",\"c\"}"
   ]
  },
  {
   "cell_type": "code",
   "execution_count": 215,
   "id": "70108fa5",
   "metadata": {},
   "outputs": [
    {
     "data": {
      "text/plain": [
       "{0, 1, 2, 3, 4, 5, 6, 7, 8, 9}"
      ]
     },
     "execution_count": 215,
     "metadata": {},
     "output_type": "execute_result"
    }
   ],
   "source": [
    "s1.union(s2)\n",
    "# concatenate s1,s2"
   ]
  },
  {
   "cell_type": "code",
   "execution_count": 212,
   "id": "dd0c2741",
   "metadata": {},
   "outputs": [],
   "source": [
    "s1={1,2,3,4,5,6,7,8,9}\n",
    "s2={0,5,8,2,}"
   ]
  },
  {
   "cell_type": "code",
   "execution_count": 214,
   "id": "ef666640",
   "metadata": {},
   "outputs": [
    {
     "data": {
      "text/plain": [
       "{2, 5, 8}"
      ]
     },
     "execution_count": 214,
     "metadata": {},
     "output_type": "execute_result"
    }
   ],
   "source": [
    "s1.intersection(s2)\n",
    "#coman value in both set s1,s2"
   ]
  },
  {
   "cell_type": "code",
   "execution_count": 216,
   "id": "a847de13",
   "metadata": {},
   "outputs": [],
   "source": [
    "s3={7,3,5,}"
   ]
  },
  {
   "cell_type": "code",
   "execution_count": 217,
   "id": "743166fd",
   "metadata": {},
   "outputs": [
    {
     "data": {
      "text/plain": [
       "{5}"
      ]
     },
     "execution_count": 217,
     "metadata": {},
     "output_type": "execute_result"
    }
   ],
   "source": [
    "s2.intersection(s3)"
   ]
  },
  {
   "cell_type": "code",
   "execution_count": 218,
   "id": "42d602ea",
   "metadata": {},
   "outputs": [],
   "source": [
    "# if statement"
   ]
  },
  {
   "cell_type": "code",
   "execution_count": 219,
   "id": "e998e369",
   "metadata": {},
   "outputs": [],
   "source": [
    "a=10"
   ]
  },
  {
   "cell_type": "code",
   "execution_count": 220,
   "id": "d1028520",
   "metadata": {},
   "outputs": [],
   "source": [
    "b=23"
   ]
  },
  {
   "cell_type": "code",
   "execution_count": 223,
   "id": "2fc504b1",
   "metadata": {},
   "outputs": [
    {
     "name": "stdout",
     "output_type": "stream",
     "text": [
      "b is greater\n"
     ]
    }
   ],
   "source": [
    "if b>a:\n",
    "     print(\"b is greater\")"
   ]
  },
  {
   "cell_type": "code",
   "execution_count": 224,
   "id": "6f409786",
   "metadata": {},
   "outputs": [],
   "source": [
    "if a>b:\n",
    "    print(\"a is big\")"
   ]
  },
  {
   "cell_type": "code",
   "execution_count": 229,
   "id": "015b86fd",
   "metadata": {},
   "outputs": [
    {
     "name": "stdout",
     "output_type": "stream",
     "text": [
      "b is big \n"
     ]
    }
   ],
   "source": [
    "if a>b:\n",
    "    print(\"a is big \")\n",
    "else:\n",
    "    print(\"b is big \")\n",
    "    "
   ]
  },
  {
   "cell_type": "code",
   "execution_count": 231,
   "id": "43250817",
   "metadata": {},
   "outputs": [
    {
     "name": "stdout",
     "output_type": "stream",
     "text": [
      "b is big\n"
     ]
    }
   ],
   "source": [
    "# bigest number \n",
    "a=10\n",
    "b=200\n",
    "c=30\n",
    "if (a>b)&(a>c):\n",
    "    print(\"a is big \")\n",
    "if (b>a)&(b>c):\n",
    "    print(\"b is big\")\n",
    "else:\n",
    "    print(\"c is big \")\n"
   ]
  },
  {
   "cell_type": "code",
   "execution_count": 232,
   "id": "c6bf2b38",
   "metadata": {},
   "outputs": [],
   "source": [
    "# if tuple"
   ]
  },
  {
   "cell_type": "code",
   "execution_count": 233,
   "id": "590521ae",
   "metadata": {},
   "outputs": [],
   "source": [
    "tup1=('a','b','c')"
   ]
  },
  {
   "cell_type": "code",
   "execution_count": 239,
   "id": "89334b83",
   "metadata": {},
   "outputs": [
    {
     "name": "stdout",
     "output_type": "stream",
     "text": [
      " vale is not in tupl\n"
     ]
    }
   ],
   "source": [
    "if 'z' in tup1:\n",
    "    print(\"value a is present in tupl\")\n",
    "else:\n",
    "    print(\" vale is not in tupl\")"
   ]
  },
  {
   "cell_type": "code",
   "execution_count": 240,
   "id": "88283af6",
   "metadata": {},
   "outputs": [],
   "source": [
    "# if with list "
   ]
  },
  {
   "cell_type": "code",
   "execution_count": 241,
   "id": "ea8b090d",
   "metadata": {},
   "outputs": [],
   "source": [
    "l1=['a','b','c']"
   ]
  },
  {
   "cell_type": "code",
   "execution_count": 243,
   "id": "d30acf08",
   "metadata": {},
   "outputs": [],
   "source": [
    "if l1[1]=='b':\n",
    "    l1[1]='z'"
   ]
  },
  {
   "cell_type": "code",
   "execution_count": 244,
   "id": "46e1ac7e",
   "metadata": {},
   "outputs": [
    {
     "data": {
      "text/plain": [
       "['a', 'z', 'c']"
      ]
     },
     "execution_count": 244,
     "metadata": {},
     "output_type": "execute_result"
    }
   ],
   "source": [
    "l1"
   ]
  },
  {
   "cell_type": "code",
   "execution_count": 245,
   "id": "4871e9f9",
   "metadata": {},
   "outputs": [],
   "source": [
    "# if with dictionry"
   ]
  },
  {
   "cell_type": "code",
   "execution_count": 246,
   "id": "f26c29b4",
   "metadata": {},
   "outputs": [],
   "source": [
    "d1={'k1':10,'k2':20,'k3':30}"
   ]
  },
  {
   "cell_type": "code",
   "execution_count": 247,
   "id": "45fa9130",
   "metadata": {},
   "outputs": [
    {
     "data": {
      "text/plain": [
       "{'k1': 10, 'k2': 20, 'k3': 30}"
      ]
     },
     "execution_count": 247,
     "metadata": {},
     "output_type": "execute_result"
    }
   ],
   "source": [
    "d1"
   ]
  },
  {
   "cell_type": "code",
   "execution_count": 259,
   "id": "4f5b1ac8",
   "metadata": {},
   "outputs": [],
   "source": [
    "if d1['k3']==30:\n",
    "    d1['k3']=d1['k3']=100"
   ]
  },
  {
   "cell_type": "code",
   "execution_count": 260,
   "id": "61f2d9ee",
   "metadata": {},
   "outputs": [
    {
     "data": {
      "text/plain": [
       "{'k1': 10, 'k2': 20, 'k3': 130}"
      ]
     },
     "execution_count": 260,
     "metadata": {},
     "output_type": "execute_result"
    }
   ],
   "source": [
    "d1"
   ]
  },
  {
   "cell_type": "code",
   "execution_count": 262,
   "id": "b5b7dd0d",
   "metadata": {},
   "outputs": [],
   "source": [
    "if d1['k2']==20:\n",
    "    d1['k2']=d1['k2']=100"
   ]
  },
  {
   "cell_type": "code",
   "execution_count": 263,
   "id": "74c8c227",
   "metadata": {},
   "outputs": [
    {
     "data": {
      "text/plain": [
       "{'k1': 10, 'k2': 100, 'k3': 130}"
      ]
     },
     "execution_count": 263,
     "metadata": {},
     "output_type": "execute_result"
    }
   ],
   "source": [
    "d1"
   ]
  },
  {
   "cell_type": "code",
   "execution_count": 264,
   "id": "65688853",
   "metadata": {},
   "outputs": [],
   "source": [
    "if d1['k3']==20:\n",
    "    d1['k3']=d1['k3']=100"
   ]
  },
  {
   "cell_type": "code",
   "execution_count": 265,
   "id": "5f591d63",
   "metadata": {},
   "outputs": [
    {
     "data": {
      "text/plain": [
       "{'k1': 10, 'k2': 100, 'k3': 130}"
      ]
     },
     "execution_count": 265,
     "metadata": {},
     "output_type": "execute_result"
    }
   ],
   "source": [
    "d1"
   ]
  },
  {
   "cell_type": "code",
   "execution_count": 266,
   "id": "0499767c",
   "metadata": {},
   "outputs": [],
   "source": [
    "# looping statements are used to repeat a task multiple time"
   ]
  },
  {
   "cell_type": "code",
   "execution_count": null,
   "id": "52e50446",
   "metadata": {},
   "outputs": [],
   "source": []
  }
 ],
 "metadata": {
  "kernelspec": {
   "display_name": "Python 3 (ipykernel)",
   "language": "python",
   "name": "python3"
  },
  "language_info": {
   "codemirror_mode": {
    "name": "ipython",
    "version": 3
   },
   "file_extension": ".py",
   "mimetype": "text/x-python",
   "name": "python",
   "nbconvert_exporter": "python",
   "pygments_lexer": "ipython3",
   "version": "3.9.7"
  }
 },
 "nbformat": 4,
 "nbformat_minor": 5
}
